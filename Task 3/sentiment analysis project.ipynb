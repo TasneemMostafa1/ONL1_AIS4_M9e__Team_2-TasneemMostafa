{
 "cells": [
  {
   "cell_type": "markdown",
   "id": "8506653b",
   "metadata": {},
   "source": [
    "### Step 1: Import necessary libraries for data handling, visualization, and text processing"
   ]
  },
  {
   "cell_type": "code",
   "execution_count": 1,
   "id": "fae6d75a",
   "metadata": {},
   "outputs": [
    {
     "name": "stderr",
     "output_type": "stream",
     "text": [
      "E:\\anaconda\\lib\\site-packages\\scipy\\__init__.py:146: UserWarning: A NumPy version >=1.16.5 and <1.23.0 is required for this version of SciPy (detected version 1.26.4\n",
      "  warnings.warn(f\"A NumPy version >={np_minversion} and <{np_maxversion}\"\n",
      "[nltk_data] Downloading package stopwords to\n",
      "[nltk_data]     C:\\Users\\User\\AppData\\Roaming\\nltk_data...\n",
      "[nltk_data]   Package stopwords is already up-to-date!\n"
     ]
    }
   ],
   "source": [
    "import numpy as np\n",
    "import pandas as pd\n",
    "import matplotlib.pyplot as plt\n",
    "import seaborn as sns\n",
    "import nltk\n",
    "from nltk.corpus import stopwords\n",
    "from nltk.tokenize import word_tokenize\n",
    "nltk.download('stopwords')\n",
    "import string\n",
    "from sklearn.feature_extraction.text import CountVectorizer\n",
    "from sklearn.model_selection import train_test_split\n",
    "from sklearn.svm import SVC\n",
    "from sklearn.metrics import classification_report, accuracy_score, confusion_matrix"
   ]
  },
  {
   "cell_type": "markdown",
   "id": "c65075d5",
   "metadata": {},
   "source": [
    "### Step 2: Load and clean the training and testing datasets, remove empty or NaN text entries"
   ]
  },
  {
   "cell_type": "code",
   "execution_count": 2,
   "id": "97c95c16",
   "metadata": {},
   "outputs": [],
   "source": [
    "tweets_df = pd.read_csv(\"train.csv\")\n",
    "tweets_df = tweets_df[['text', 'sentiment']]\n",
    "\n",
    "test_df = pd.read_csv(\"test.csv\")\n",
    "test_df = test_df[['text', 'sentiment']]\n",
    "\n",
    "# Remove empty or NaN rows from training data\n",
    "tweets_df.dropna(subset=['text'], inplace=True)\n",
    "tweets_df = tweets_df[tweets_df['text'].str.strip() != '']\n"
   ]
  },
  {
   "cell_type": "markdown",
   "id": "041b9c8f",
   "metadata": {},
   "source": [
    "### Step 3: Analyze the sentiment distribution and visualize it using a bar plot"
   ]
  },
  {
   "cell_type": "code",
   "execution_count": 3,
   "id": "fb6744eb",
   "metadata": {},
   "outputs": [
    {
     "data": {
      "image/png": "[encoded data removed]",
      "text/plain": [
       "<Figure size 720x432 with 1 Axes>"
      ]
     },
     "metadata": {
      "needs_background": "light"
     },
     "output_type": "display_data"
    }
   ],
   "source": [
    "plt.figure(figsize=(10, 6))\n",
    "sns.countplot(x='sentiment', data=tweets_df, palette='viridis')\n",
    "plt.title('Sentiment Distribution in Training Data')\n",
    "plt.xlabel('Sentiment')\n",
    "plt.ylabel('Count')\n",
    "plt.show()"
   ]
  },
  {
   "cell_type": "markdown",
   "id": "1acaa92a",
   "metadata": {},
   "source": [
    "### Step 4: Define a function `textClean` to preprocess text by removing punctuation, URLs, and stopwords"
   ]
  },
  {
   "cell_type": "code",
   "execution_count": 4,
   "id": "84ecc132",
   "metadata": {},
   "outputs": [],
   "source": [
    "def textClean(text):\n",
    "    nopunc = [char.lower() for char in text if char not in string.punctuation]\n",
    "    nopunc = ''.join(nopunc)\n",
    "    tokens = word_tokenize(nopunc)\n",
    "    nohttp = [word for word in tokens if word[0:4] != 'http']\n",
    "    nostop = [word for word in nohttp if word not in stopwords.words('english')]\n",
    "    return nostop\n"
   ]
  },
  {
   "cell_type": "markdown",
   "id": "db25e822",
   "metadata": {},
   "source": [
    "### Step 5: Vectorize the cleaned text using `CountVectorizer` to transform it into a numerical format for machine learning"
   ]
  },
  {
   "cell_type": "code",
   "execution_count": 5,
   "id": "d78eebef",
   "metadata": {},
   "outputs": [],
   "source": [
    "vectorizer = CountVectorizer(analyzer=textClean)\n",
    "\n",
    "message = vectorizer.fit_transform(tweets_df['text'])\n",
    "\n",
    "doc = pd.DataFrame(message.toarray(), columns=vectorizer.get_feature_names_out())"
   ]
  },
  {
   "cell_type": "markdown",
   "id": "e2cdbfde",
   "metadata": {},
   "source": [
    "### Step 6: Split the data into training and testing sets"
   ]
  },
  {
   "cell_type": "code",
   "execution_count": 6,
   "id": "73d7fe39",
   "metadata": {},
   "outputs": [],
   "source": [
    "xtrain, xtest, ytrain, ytest = train_test_split(message, tweets_df.sentiment, test_size=0.20, random_state=20)"
   ]
  },
  {
   "cell_type": "markdown",
   "id": "8ad9fb3c",
   "metadata": {},
   "source": [
    "### Step 7: Train the SVM (support vector machine) model"
   ]
  },
  {
   "cell_type": "code",
   "execution_count": 7,
   "id": "1d0c2e9d",
   "metadata": {},
   "outputs": [
    {
     "data": {
      "text/plain": [
       "SVC(C=0.2, gamma=0.8, kernel='linear')"
      ]
     },
     "execution_count": 7,
     "metadata": {},
     "output_type": "execute_result"
    }
   ],
   "source": [
    "svc_model = SVC(C=0.2, kernel='linear', gamma=0.8)\n",
    "svc_model.fit(xtrain, ytrain)"
   ]
  },
  {
   "cell_type": "markdown",
   "id": "b82518d3",
   "metadata": {},
   "source": [
    "### Step 8: Evaluate the SVM model on the training data"
   ]
  },
  {
   "cell_type": "code",
   "execution_count": 8,
   "id": "29883b40",
   "metadata": {},
   "outputs": [
    {
     "name": "stdout",
     "output_type": "stream",
     "text": [
      "Training Data Classification Report:\n",
      "               precision    recall  f1-score   support\n",
      "\n",
      "    negative       0.88      0.75      0.81      6253\n",
      "     neutral       0.76      0.88      0.82      8863\n",
      "    positive       0.88      0.82      0.85      6868\n",
      "\n",
      "    accuracy                           0.82     21984\n",
      "   macro avg       0.84      0.82      0.82     21984\n",
      "weighted avg       0.83      0.82      0.82     21984\n",
      "\n",
      "Training Data Accuracy: 0.8245542212518195\n"
     ]
    }
   ],
   "source": [
    "train_pred = svc_model.predict(xtrain)\n",
    "print(\"Training Data Classification Report:\\n\", classification_report(ytrain, train_pred))\n",
    "print(\"Training Data Accuracy:\", accuracy_score(ytrain, train_pred))"
   ]
  },
  {
   "cell_type": "markdown",
   "id": "68a59143",
   "metadata": {},
   "source": [
    "### Step 9: Evaluate the SVM model on the test data"
   ]
  },
  {
   "cell_type": "code",
   "execution_count": 20,
   "id": "7e52b0a8",
   "metadata": {},
   "outputs": [
    {
     "name": "stdout",
     "output_type": "stream",
     "text": [
      "Testing Data Classification Report:\n",
      "               precision    recall  f1-score   support\n",
      "\n",
      "    negative       0.73      0.58      0.64      1528\n",
      "     neutral       0.64      0.77      0.70      2254\n",
      "    positive       0.79      0.71      0.75      1714\n",
      "\n",
      "    accuracy                           0.70      5496\n",
      "   macro avg       0.72      0.69      0.70      5496\n",
      "weighted avg       0.71      0.70      0.70      5496\n",
      "\n",
      "Testing Data Accuracy: 0.6994177583697234\n"
     ]
    }
   ],
   "source": [
    "#test from train.csv\n",
    "test_pred = svc_model.predict(xtest)\n",
    "print(\"Testing Data Classification Report:\\n\", classification_report(ytest, test_pred))\n",
    "print(\"Testing Data Accuracy:\", accuracy_score(ytest, test_pred))"
   ]
  },
  {
   "cell_type": "code",
   "execution_count": 21,
   "id": "14d410cc",
   "metadata": {},
   "outputs": [
    {
     "name": "stdout",
     "output_type": "stream",
     "text": [
      "Test Data Classification Report:\n",
      "               precision    recall  f1-score   support\n",
      "\n",
      "    negative       0.73      0.60      0.66      1001\n",
      "     neutral       0.63      0.77      0.69      1430\n",
      "    positive       0.80      0.71      0.75      1103\n",
      "\n",
      "    accuracy                           0.70      3534\n",
      "   macro avg       0.72      0.69      0.70      3534\n",
      "weighted avg       0.71      0.70      0.70      3534\n",
      "\n",
      "Test Data Accuracy: 0.702037351443124\n"
     ]
    }
   ],
   "source": [
    "#testing test file\n",
    "message2 = vectorizer.transform(test_df['text'])\n",
    "\n",
    "test_pred = svc_model.predict(message2)\n",
    "print(\"Test Data Classification Report:\\n\", classification_report(test_df['sentiment'], test_pred))\n",
    "print(\"Test Data Accuracy:\", accuracy_score(test_df['sentiment'], test_pred))"
   ]
  },
  {
   "cell_type": "markdown",
   "id": "dfa96682",
   "metadata": {},
   "source": [
    "### Step 10:Visualize the confusion matrix for the model's predictions"
   ]
  },
  {
   "cell_type": "code",
   "execution_count": 10,
   "id": "f144d766",
   "metadata": {},
   "outputs": [
    {
     "data": {
      "image/png": "[encoded data removed]",
      "text/plain": [
       "<Figure size 576x432 with 2 Axes>"
      ]
     },
     "metadata": {
      "needs_background": "light"
     },
     "output_type": "display_data"
    }
   ],
   "source": [
    "conf_matrix = confusion_matrix(ytest, test_pred, labels=['negative', 'neutral', 'positive'])\n",
    "\n",
    "plt.figure(figsize=(8, 6))\n",
    "sns.heatmap(conf_matrix, annot=True, fmt='d', cmap='Blues', \n",
    "            xticklabels=['Negative', 'Neutral', 'Positive'], \n",
    "            yticklabels=['Negative', 'Neutral', 'Positive'])\n",
    "plt.title('Confusion Matrix')\n",
    "plt.xlabel('Predicted')\n",
    "plt.ylabel('True')\n",
    "plt.show()  \n"
   ]
  },
  {
   "cell_type": "markdown",
   "id": "96d2f948",
   "metadata": {},
   "source": [
    "### Step 11: Visualize precision, recall, and F1-score metrics"
   ]
  },
  {
   "cell_type": "code",
   "execution_count": 12,
   "id": "8e374710",
   "metadata": {},
   "outputs": [
    {
     "data": {
      "text/plain": [
       "<Figure size 720x432 with 0 Axes>"
      ]
     },
     "metadata": {},
     "output_type": "display_data"
    },
    {
     "data": {
      "image/png": "[encoded data removed]",
      "text/plain": [
       "<Figure size 432x288 with 1 Axes>"
      ]
     },
     "metadata": {
      "needs_background": "light"
     },
     "output_type": "display_data"
    }
   ],
   "source": [
    "report = classification_report(ytest, test_pred, output_dict=True)\n",
    "report_df = pd.DataFrame(report).transpose()\n",
    "\n",
    "plt.figure(figsize=(10, 6))\n",
    "report_df[['precision', 'recall', 'f1-score']].plot(kind='bar')\n",
    "plt.title('Classification Report Metrics')\n",
    "plt.xticks(rotation=0)\n",
    "plt.ylabel('Score')\n",
    "plt.show()\n"
   ]
  },
  {
   "cell_type": "markdown",
   "id": "ee0f93a0",
   "metadata": {},
   "source": [
    "### Step 12: Make predictions on new text samples"
   ]
  },
  {
   "cell_type": "code",
   "execution_count": 13,
   "id": "2fbd0294",
   "metadata": {},
   "outputs": [
    {
     "name": "stdout",
     "output_type": "stream",
     "text": [
      "positive 😀\n",
      "negative 😞\n",
      "positive 😀\n",
      "neutral 😐\n"
     ]
    }
   ],
   "source": [
    "new_text = [\"I love this movie!\", \"This product is terrible.\", \"The food was delicious.\", \"This product is alright\"]\n",
    "new_features = vectorizer.transform(new_text)\n",
    "new_predictions = svc_model.predict(new_features)\n",
    "\n",
    "for i in new_predictions:\n",
    "    if i == 'positive':\n",
    "        print(i, \"😀\")\n",
    "    elif i == 'negative':\n",
    "        print(i, \"😞\")\n",
    "    elif i == 'neutral':\n",
    "        print(i, \"😐\")\n"
   ]
  },
  {
   "cell_type": "markdown",
   "id": "75dd3393",
   "metadata": {},
   "source": [
    "### Step 13: Predict sentiments for a new dataset of TeePublic reviews"
   ]
  },
  {
   "cell_type": "code",
   "execution_count": 14,
   "id": "992bec92",
   "metadata": {},
   "outputs": [
    {
     "data": {
      "text/html": [
       "<div>\n",
       "<style scoped>\n",
       "    .dataframe tbody tr th:only-of-type {\n",
       "        vertical-align: middle;\n",
       "    }\n",
       "\n",
       "    .dataframe tbody tr th {\n",
       "        vertical-align: top;\n",
       "    }\n",
       "\n",
       "    .dataframe thead th {\n",
       "        text-align: right;\n",
       "    }\n",
       "</style>\n",
       "<table border=\"1\" class=\"dataframe\">\n",
       "  <thead>\n",
       "    <tr style=\"text-align: right;\">\n",
       "      <th></th>\n",
       "      <th>reviewer_id</th>\n",
       "      <th>store_location</th>\n",
       "      <th>latitude</th>\n",
       "      <th>longitude</th>\n",
       "      <th>date</th>\n",
       "      <th>month</th>\n",
       "      <th>year</th>\n",
       "      <th>title</th>\n",
       "      <th>review</th>\n",
       "      <th>review-label</th>\n",
       "      <th>predicted_sentiment</th>\n",
       "    </tr>\n",
       "  </thead>\n",
       "  <tbody>\n",
       "    <tr>\n",
       "      <th>0</th>\n",
       "      <td>0.0</td>\n",
       "      <td>US</td>\n",
       "      <td>37.090240</td>\n",
       "      <td>-95.712891</td>\n",
       "      <td>2023</td>\n",
       "      <td>6</td>\n",
       "      <td>2015 00:00:00</td>\n",
       "      <td>Great help with lost order</td>\n",
       "      <td>I had an order that was lost in transit. When ...</td>\n",
       "      <td>5</td>\n",
       "      <td>negative</td>\n",
       "    </tr>\n",
       "    <tr>\n",
       "      <th>1</th>\n",
       "      <td>1.0</td>\n",
       "      <td>US</td>\n",
       "      <td>37.090240</td>\n",
       "      <td>-95.712891</td>\n",
       "      <td>2023</td>\n",
       "      <td>6</td>\n",
       "      <td>2024 00:00:00</td>\n",
       "      <td>I ordered the wrong size tee and hadï¿½ï¿½ï¿½</td>\n",
       "      <td>I ordered the wrong size tee and had difficult...</td>\n",
       "      <td>5</td>\n",
       "      <td>negative</td>\n",
       "    </tr>\n",
       "    <tr>\n",
       "      <th>2</th>\n",
       "      <td>2.0</td>\n",
       "      <td>US</td>\n",
       "      <td>37.090240</td>\n",
       "      <td>-95.712891</td>\n",
       "      <td>2023</td>\n",
       "      <td>6</td>\n",
       "      <td>2017 00:00:00</td>\n",
       "      <td>These guys offer the best customerï¿½ï¿½ï¿½</td>\n",
       "      <td>These guys offer the best customer service in ...</td>\n",
       "      <td>5</td>\n",
       "      <td>positive</td>\n",
       "    </tr>\n",
       "    <tr>\n",
       "      <th>3</th>\n",
       "      <td>3.0</td>\n",
       "      <td>US</td>\n",
       "      <td>37.090240</td>\n",
       "      <td>-95.712891</td>\n",
       "      <td>2023</td>\n",
       "      <td>6</td>\n",
       "      <td>2024 00:00:00</td>\n",
       "      <td>Good Stuff</td>\n",
       "      <td>Looked for an obscure phrase on a shirt. Teepu...</td>\n",
       "      <td>5</td>\n",
       "      <td>positive</td>\n",
       "    </tr>\n",
       "    <tr>\n",
       "      <th>4</th>\n",
       "      <td>4.0</td>\n",
       "      <td>CA</td>\n",
       "      <td>56.130366</td>\n",
       "      <td>-106.346771</td>\n",
       "      <td>2023</td>\n",
       "      <td>6</td>\n",
       "      <td>2023 00:00:00</td>\n",
       "      <td>My order arrived in a good timelyï¿½ï¿½ï¿½</td>\n",
       "      <td>My order arrived in a good timely fashion &amp; th...</td>\n",
       "      <td>4</td>\n",
       "      <td>positive</td>\n",
       "    </tr>\n",
       "  </tbody>\n",
       "</table>\n",
       "</div>"
      ],
      "text/plain": [
       "   reviewer_id store_location   latitude   longitude  date  month  \\\n",
       "0          0.0             US  37.090240  -95.712891  2023      6   \n",
       "1          1.0             US  37.090240  -95.712891  2023      6   \n",
       "2          2.0             US  37.090240  -95.712891  2023      6   \n",
       "3          3.0             US  37.090240  -95.712891  2023      6   \n",
       "4          4.0             CA  56.130366 -106.346771  2023      6   \n",
       "\n",
       "            year                                          title  \\\n",
       "0  2015 00:00:00                     Great help with lost order   \n",
       "1  2024 00:00:00  I ordered the wrong size tee and hadï¿½ï¿½ï¿½   \n",
       "2  2017 00:00:00    These guys offer the best customerï¿½ï¿½ï¿½   \n",
       "3  2024 00:00:00                                     Good Stuff   \n",
       "4  2023 00:00:00     My order arrived in a good timelyï¿½ï¿½ï¿½   \n",
       "\n",
       "                                              review  review-label  \\\n",
       "0  I had an order that was lost in transit. When ...             5   \n",
       "1  I ordered the wrong size tee and had difficult...             5   \n",
       "2  These guys offer the best customer service in ...             5   \n",
       "3  Looked for an obscure phrase on a shirt. Teepu...             5   \n",
       "4  My order arrived in a good timely fashion & th...             4   \n",
       "\n",
       "  predicted_sentiment  \n",
       "0            negative  \n",
       "1            negative  \n",
       "2            positive  \n",
       "3            positive  \n",
       "4            positive  "
      ]
     },
     "execution_count": 14,
     "metadata": {},
     "output_type": "execute_result"
    }
   ],
   "source": [
    "df = pd.read_csv('TeePublic_review.csv', encoding='latin-1', nrows=5000)\n",
    "\n",
    "df = df[['review']].dropna()\n",
    "\n",
    "new_message = vectorizer.transform(df['review'])\n",
    "\n",
    "df['predicted_sentiment'] = svc_model.predict(new_message)\n",
    "\n",
    "full_df = pd.read_csv('TeePublic_review.csv', encoding='latin-1')\n",
    "\n",
    "full_df.loc[full_df.index[:len(df)], 'predicted_sentiment'] = df['predicted_sentiment']\n",
    "\n",
    "full_df.to_csv('TeePublic_review_with_sentiments.csv', index=False)\n",
    "\n",
    "full_df.head()"
   ]
  },
  {
   "cell_type": "markdown",
   "id": "86ae5e1f",
   "metadata": {},
   "source": [
    "### Step 14: Visualize the predicted sentiment distribution in TeePublic reviews"
   ]
  },
  {
   "cell_type": "code",
   "execution_count": 15,
   "id": "4ffaa85b",
   "metadata": {},
   "outputs": [
    {
     "data": {
      "image/png": "[encoded data removed]",
      "text/plain": [
       "<Figure size 720x432 with 1 Axes>"
      ]
     },
     "metadata": {
      "needs_background": "light"
     },
     "output_type": "display_data"
    }
   ],
   "source": [
    "plt.figure(figsize=(10, 6))\n",
    "sns.countplot(x='predicted_sentiment', data=df, palette='viridis')\n",
    "plt.title('Predicted Sentiment Distribution in TeePublic Reviews')\n",
    "plt.xlabel('Predicted Sentiment')\n",
    "plt.ylabel('Count')\n",
    "plt.show()"
   ]
  },
  {
   "cell_type": "markdown",
   "id": "1696c7fc",
   "metadata": {},
   "source": [
    "### Step 15: Fine-tune the SVM model with different hyperparameters"
   ]
  },
  {
   "cell_type": "code",
   "execution_count": 18,
   "id": "901ecef4",
   "metadata": {},
   "outputs": [
    {
     "name": "stdout",
     "output_type": "stream",
     "text": [
      "c in the model: 0.2\n",
      "0.1\n",
      "The model Accuracy: 69.94%\n",
      " score of test data 0.702037351443124\n",
      "1.0\n",
      "The model Accuracy: 69.94%\n",
      " score of test data 0.702037351443124\n",
      "10.0\n",
      "The model Accuracy: 69.94%\n",
      " score of test data 0.702037351443124\n",
      "100.0\n",
      "The model Accuracy: 69.94%\n",
      " score of test data 0.702037351443124\n",
      "1000.0\n",
      "The model Accuracy: 69.94%\n",
      " score of test data 0.702037351443124\n"
     ]
    }
   ],
   "source": [
    "c = 0.0\n",
    "num_iterations = 1\n",
    "\n",
    "for _ in range(num_iterations):\n",
    "    c += 0.2\n",
    "    g = 0.1\n",
    "    print(f'c in the model: {c}')\n",
    "    \n",
    "    for i in range(5):\n",
    "        print(g)\n",
    "        svc_model = SVC(C=c, kernel='linear', gamma=g).fit(xtrain, ytrain)\n",
    "        print(f\"The model Accuracy: {svc_model.score(xtest, ytest) * 100 :.2f}%\\n\",\n",
    "              \"score of test data\", svc_model.score(message2, test_data['sentiment']))\n",
    "        g = g * 10"
   ]
  }
 ],
 "metadata": {
  "kernelspec": {
   "display_name": "Python 3 (ipykernel)",
   "language": "python",
   "name": "python3"
  },
  "language_info": {
   "codemirror_mode": {
    "name": "ipython",
    "version": 3
   },
   "file_extension": ".py",
   "mimetype": "text/x-python",
   "name": "python",
   "nbconvert_exporter": "python",
   "pygments_lexer": "ipython3",
   "version": "3.9.12"
  }
 },
 "nbformat": 4,
 "nbformat_minor": 5
}
